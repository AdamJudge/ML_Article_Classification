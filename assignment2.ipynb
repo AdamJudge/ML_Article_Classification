{
 "cells": [
  {
   "cell_type": "markdown",
   "metadata": {},
   "source": [
    "# Assignment 2\n",
    "#### Adam Judge - 16343971\n",
    "\n",
    "## Task 1 - Data Collection"
   ]
  },
  {
   "cell_type": "code",
   "execution_count": 3,
   "metadata": {},
   "outputs": [],
   "source": [
    "import numpy as np\n",
    "import urllib.request\n",
    "import bs4\n",
    "from sklearn.feature_extraction.text import CountVectorizer, TfidfVectorizer, TfidfTransformer\n",
    "from sklearn.pipeline import Pipeline\n",
    "from sklearn.neighbors import KNeighborsClassifier\n",
    "from sklearn.linear_model import SGDClassifier\n",
    "from sklearn.model_selection import cross_val_score\n",
    "from sklearn.metrics import confusion_matrix\n",
    "from sklearn.model_selection import train_test_split\n",
    "from sklearn.metrics import roc_auc_score\n",
    "import pandas as pd \n",
    "pd.set_option(\"display.max_rows\", None)\n",
    "import matplotlib\n",
    "%matplotlib inline \n",
    "import matplotlib.pyplot as plt"
   ]
  },
  {
   "cell_type": "code",
   "execution_count": 4,
   "metadata": {},
   "outputs": [],
   "source": [
    "# Small function to obtain html parser\n",
    "def getParser(url):\n",
    "    # Request url page\n",
    "    response = urllib.request.urlopen(url)\n",
    "    if response.code != 200:\n",
    "        print(\"Bad response!\")\n",
    "    # Decode HTML\n",
    "    html = response.read().decode()    \n",
    "    # Setup parser of html\n",
    "    parser = bs4.BeautifulSoup(html, \"html.parser\")\n",
    "    return parser"
   ]
  },
  {
   "cell_type": "markdown",
   "metadata": {},
   "source": [
    "### A list of URLs will be generated through the extraction of the number of pages per month\n",
    "From viewing the HTML, we can note that the h4 field contains the phase \"Page 1 of X\", which can be leveraged to obtain all data URLs."
   ]
  },
  {
   "cell_type": "code",
   "execution_count": 5,
   "metadata": {},
   "outputs": [],
   "source": [
    "# Get all URLS with data\n",
    "# All urls start with this\n",
    "urlBase=\"http://mlg.ucd.ie/modules/COMP41680/assignment2/month-\"\n",
    "months=[\"jan\", \"feb\", \"mar\", \"apr\", \"may\", \"jun\", \"jul\", \"aug\", \"sep\", \"oct\", \"nov\", \"dec\"]\n",
    "urls=[]\n",
    "# Iterate through months\n",
    "for m in months:\n",
    "    # First URL of data per month\n",
    "    url=urlBase + m + \"-001.html\"\n",
    "    parser = getParser(url)\n",
    "    # h4 field countains \"Page 1 of X\", extract X to obtain all urls with data\n",
    "    for match in parser.find_all(\"h4\"):\n",
    "        text = match.get_text().split()\n",
    "        # This will be the total number of pages to parse\n",
    "        pagenum=int(text[-1])\n",
    "    for num in range(1,pagenum+1):\n",
    "        # Fit number into URL format\n",
    "        if num<10:\n",
    "            urls.append(urlBase+m+f\"-00{num}.html\")\n",
    "        elif num<100:\n",
    "            urls.append(urlBase+m+f\"-0{num}.html\")\n",
    "        else:\n",
    "            urls.append(urlBase+m+f\"-{num}.html\")"
   ]
  },
  {
   "cell_type": "markdown",
   "metadata": {},
   "source": [
    "### Categories\n",
    "##### The chosen categories for this assignment are Music, Sport, and US News. \n",
    "The titles, categories, and snippets will now be compiled into relevant lists\n",
    "\n",
    "The h5 field contains the titles of the article snippets. These must be collected as required. The category of this title is then extracted along with the short text snippet for the story.\n",
    "\n",
    "This data is then stored in a list of lists."
   ]
  },
  {
   "cell_type": "code",
   "execution_count": 6,
   "metadata": {},
   "outputs": [],
   "source": [
    "iter=0\n",
    "# Categories of interest to the author\n",
    "cats=[\"Music\", \"Sport\", \"US-News\"]\n",
    "# data[col][row]\n",
    "# Multiclass array\n",
    "dataAll=[]\n",
    "# Arrays for binary\n",
    "dataMusicSport=[]\n",
    "dataMusicUSNews=[]\n",
    "dataSportUSNews=[]\n",
    "snippet=\"\"\n",
    "for u in urls:\n",
    "    # Get HTML parser of each URL\n",
    "    parser = getParser(u)\n",
    "    titles=[]\n",
    "    iter=0\n",
    "    articleNum=0\n",
    "    # Extract all titles on each URL\n",
    "    for match in parser.find_all(\"h5\"):\n",
    "        # Strip number and period from start of titles\n",
    "        titles.append(match.get_text().lstrip('0123456789. '))\n",
    "    # p field contains category, times, snippets\n",
    "    for match in parser.find_all(\"p\"):\n",
    "        text = match.get_text()\n",
    "        currCat=text.split()[-1]\n",
    "        # If category of interest and actually a category\n",
    "        # Avoids snippets ending in category name\n",
    "        if text.split()[0] == \"Category:\":\n",
    "            articleNum+=1\n",
    "        if currCat in cats and len(text.split())==2:\n",
    "            category=currCat\n",
    "            iter=1\n",
    "            continue\n",
    "        if iter == 0:\n",
    "            # Times not needed\n",
    "            continue\n",
    "        if iter == 1:\n",
    "            # Append titles, snippets, and categories to list of lists\n",
    "            dataAll.append([titles[articleNum-1],text, category])\n",
    "            # Add data and category to binary data sets\n",
    "            if category == \"Music\" or category == \"Sport\":\n",
    "                dataMusicSport.append([titles[articleNum-1], text, category])\n",
    "            if category == \"Music\" or category == \"US-News\":\n",
    "                dataMusicUSNews.append([titles[articleNum-1],text, category])\n",
    "            if category == \"Sport\" or category == \"US-News\":\n",
    "                dataSportUSNews.append([titles[articleNum-1],text, category])\n",
    "            iter=0"
   ]
  },
  {
   "cell_type": "markdown",
   "metadata": {},
   "source": [
    "The lists of lists of data are now converted to Dataframes. This is done primarily to view the data extracted,"
   ]
  },
  {
   "cell_type": "code",
   "execution_count": 7,
   "metadata": {},
   "outputs": [
    {
     "ename": "ValueError",
     "evalue": "2 columns passed, passed data had 3 columns",
     "output_type": "error",
     "traceback": [
      "\u001b[1;31m---------------------------------------------------------------------------\u001b[0m",
      "\u001b[1;31mAssertionError\u001b[0m                            Traceback (most recent call last)",
      "\u001b[1;32m~\\anaconda3\\lib\\site-packages\\pandas\\core\\internals\\construction.py\u001b[0m in \u001b[0;36m_list_to_arrays\u001b[1;34m(data, columns, coerce_float, dtype)\u001b[0m\n\u001b[0;32m    495\u001b[0m     \u001b[1;32mtry\u001b[0m\u001b[1;33m:\u001b[0m\u001b[1;33m\u001b[0m\u001b[1;33m\u001b[0m\u001b[0m\n\u001b[1;32m--> 496\u001b[1;33m         result = _convert_object_array(\n\u001b[0m\u001b[0;32m    497\u001b[0m             \u001b[0mcontent\u001b[0m\u001b[1;33m,\u001b[0m \u001b[0mcolumns\u001b[0m\u001b[1;33m,\u001b[0m \u001b[0mdtype\u001b[0m\u001b[1;33m=\u001b[0m\u001b[0mdtype\u001b[0m\u001b[1;33m,\u001b[0m \u001b[0mcoerce_float\u001b[0m\u001b[1;33m=\u001b[0m\u001b[0mcoerce_float\u001b[0m\u001b[1;33m\u001b[0m\u001b[1;33m\u001b[0m\u001b[0m\n",
      "\u001b[1;32m~\\anaconda3\\lib\\site-packages\\pandas\\core\\internals\\construction.py\u001b[0m in \u001b[0;36m_convert_object_array\u001b[1;34m(content, columns, coerce_float, dtype)\u001b[0m\n\u001b[0;32m    579\u001b[0m             \u001b[1;31m# caller's responsibility to check for this...\u001b[0m\u001b[1;33m\u001b[0m\u001b[1;33m\u001b[0m\u001b[1;33m\u001b[0m\u001b[0m\n\u001b[1;32m--> 580\u001b[1;33m             raise AssertionError(\n\u001b[0m\u001b[0;32m    581\u001b[0m                 \u001b[1;34mf\"{len(columns)} columns passed, passed data had \"\u001b[0m\u001b[1;33m\u001b[0m\u001b[1;33m\u001b[0m\u001b[0m\n",
      "\u001b[1;31mAssertionError\u001b[0m: 2 columns passed, passed data had 3 columns",
      "\nThe above exception was the direct cause of the following exception:\n",
      "\u001b[1;31mValueError\u001b[0m                                Traceback (most recent call last)",
      "\u001b[1;32m<ipython-input-7-7a19de14d8f7>\u001b[0m in \u001b[0;36m<module>\u001b[1;34m\u001b[0m\n\u001b[0;32m      1\u001b[0m \u001b[0mcols\u001b[0m\u001b[1;33m=\u001b[0m\u001b[1;33m[\u001b[0m\u001b[1;34m\"Title + Snippet\"\u001b[0m\u001b[1;33m,\u001b[0m \u001b[1;34m\"Category\"\u001b[0m\u001b[1;33m]\u001b[0m\u001b[1;33m\u001b[0m\u001b[1;33m\u001b[0m\u001b[0m\n\u001b[0;32m      2\u001b[0m \u001b[1;31m# Dataframe with all three categories\u001b[0m\u001b[1;33m\u001b[0m\u001b[1;33m\u001b[0m\u001b[1;33m\u001b[0m\u001b[0m\n\u001b[1;32m----> 3\u001b[1;33m \u001b[0mdfAll\u001b[0m \u001b[1;33m=\u001b[0m \u001b[0mpd\u001b[0m\u001b[1;33m.\u001b[0m\u001b[0mDataFrame\u001b[0m\u001b[1;33m(\u001b[0m\u001b[0mdataAll\u001b[0m\u001b[1;33m,\u001b[0m \u001b[0mcolumns\u001b[0m\u001b[1;33m=\u001b[0m\u001b[0mcols\u001b[0m\u001b[1;33m)\u001b[0m\u001b[1;33m\u001b[0m\u001b[1;33m\u001b[0m\u001b[0m\n\u001b[0m\u001b[0;32m      4\u001b[0m \u001b[1;31m# Dataframes with binary combinations of categories\u001b[0m\u001b[1;33m\u001b[0m\u001b[1;33m\u001b[0m\u001b[1;33m\u001b[0m\u001b[0m\n\u001b[0;32m      5\u001b[0m \u001b[0mdfMS\u001b[0m \u001b[1;33m=\u001b[0m \u001b[0mpd\u001b[0m\u001b[1;33m.\u001b[0m\u001b[0mDataFrame\u001b[0m\u001b[1;33m(\u001b[0m\u001b[0mdataMusicSport\u001b[0m\u001b[1;33m,\u001b[0m \u001b[0mcolumns\u001b[0m\u001b[1;33m=\u001b[0m\u001b[0mcols\u001b[0m\u001b[1;33m)\u001b[0m\u001b[1;33m\u001b[0m\u001b[1;33m\u001b[0m\u001b[0m\n",
      "\u001b[1;32m~\\anaconda3\\lib\\site-packages\\pandas\\core\\frame.py\u001b[0m in \u001b[0;36m__init__\u001b[1;34m(self, data, index, columns, dtype, copy)\u001b[0m\n\u001b[0;32m    472\u001b[0m                     \u001b[1;32mif\u001b[0m \u001b[0mis_named_tuple\u001b[0m\u001b[1;33m(\u001b[0m\u001b[0mdata\u001b[0m\u001b[1;33m[\u001b[0m\u001b[1;36m0\u001b[0m\u001b[1;33m]\u001b[0m\u001b[1;33m)\u001b[0m \u001b[1;32mand\u001b[0m \u001b[0mcolumns\u001b[0m \u001b[1;32mis\u001b[0m \u001b[1;32mNone\u001b[0m\u001b[1;33m:\u001b[0m\u001b[1;33m\u001b[0m\u001b[1;33m\u001b[0m\u001b[0m\n\u001b[0;32m    473\u001b[0m                         \u001b[0mcolumns\u001b[0m \u001b[1;33m=\u001b[0m \u001b[0mdata\u001b[0m\u001b[1;33m[\u001b[0m\u001b[1;36m0\u001b[0m\u001b[1;33m]\u001b[0m\u001b[1;33m.\u001b[0m\u001b[0m_fields\u001b[0m\u001b[1;33m\u001b[0m\u001b[1;33m\u001b[0m\u001b[0m\n\u001b[1;32m--> 474\u001b[1;33m                     \u001b[0marrays\u001b[0m\u001b[1;33m,\u001b[0m \u001b[0mcolumns\u001b[0m \u001b[1;33m=\u001b[0m \u001b[0mto_arrays\u001b[0m\u001b[1;33m(\u001b[0m\u001b[0mdata\u001b[0m\u001b[1;33m,\u001b[0m \u001b[0mcolumns\u001b[0m\u001b[1;33m,\u001b[0m \u001b[0mdtype\u001b[0m\u001b[1;33m=\u001b[0m\u001b[0mdtype\u001b[0m\u001b[1;33m)\u001b[0m\u001b[1;33m\u001b[0m\u001b[1;33m\u001b[0m\u001b[0m\n\u001b[0m\u001b[0;32m    475\u001b[0m                     \u001b[0mcolumns\u001b[0m \u001b[1;33m=\u001b[0m \u001b[0mensure_index\u001b[0m\u001b[1;33m(\u001b[0m\u001b[0mcolumns\u001b[0m\u001b[1;33m)\u001b[0m\u001b[1;33m\u001b[0m\u001b[1;33m\u001b[0m\u001b[0m\n\u001b[0;32m    476\u001b[0m \u001b[1;33m\u001b[0m\u001b[0m\n",
      "\u001b[1;32m~\\anaconda3\\lib\\site-packages\\pandas\\core\\internals\\construction.py\u001b[0m in \u001b[0;36mto_arrays\u001b[1;34m(data, columns, coerce_float, dtype)\u001b[0m\n\u001b[0;32m    459\u001b[0m         \u001b[1;32mreturn\u001b[0m \u001b[1;33m[\u001b[0m\u001b[1;33m]\u001b[0m\u001b[1;33m,\u001b[0m \u001b[1;33m[\u001b[0m\u001b[1;33m]\u001b[0m  \u001b[1;31m# columns if columns is not None else []\u001b[0m\u001b[1;33m\u001b[0m\u001b[1;33m\u001b[0m\u001b[0m\n\u001b[0;32m    460\u001b[0m     \u001b[1;32mif\u001b[0m \u001b[0misinstance\u001b[0m\u001b[1;33m(\u001b[0m\u001b[0mdata\u001b[0m\u001b[1;33m[\u001b[0m\u001b[1;36m0\u001b[0m\u001b[1;33m]\u001b[0m\u001b[1;33m,\u001b[0m \u001b[1;33m(\u001b[0m\u001b[0mlist\u001b[0m\u001b[1;33m,\u001b[0m \u001b[0mtuple\u001b[0m\u001b[1;33m)\u001b[0m\u001b[1;33m)\u001b[0m\u001b[1;33m:\u001b[0m\u001b[1;33m\u001b[0m\u001b[1;33m\u001b[0m\u001b[0m\n\u001b[1;32m--> 461\u001b[1;33m         \u001b[1;32mreturn\u001b[0m \u001b[0m_list_to_arrays\u001b[0m\u001b[1;33m(\u001b[0m\u001b[0mdata\u001b[0m\u001b[1;33m,\u001b[0m \u001b[0mcolumns\u001b[0m\u001b[1;33m,\u001b[0m \u001b[0mcoerce_float\u001b[0m\u001b[1;33m=\u001b[0m\u001b[0mcoerce_float\u001b[0m\u001b[1;33m,\u001b[0m \u001b[0mdtype\u001b[0m\u001b[1;33m=\u001b[0m\u001b[0mdtype\u001b[0m\u001b[1;33m)\u001b[0m\u001b[1;33m\u001b[0m\u001b[1;33m\u001b[0m\u001b[0m\n\u001b[0m\u001b[0;32m    462\u001b[0m     \u001b[1;32melif\u001b[0m \u001b[0misinstance\u001b[0m\u001b[1;33m(\u001b[0m\u001b[0mdata\u001b[0m\u001b[1;33m[\u001b[0m\u001b[1;36m0\u001b[0m\u001b[1;33m]\u001b[0m\u001b[1;33m,\u001b[0m \u001b[0mabc\u001b[0m\u001b[1;33m.\u001b[0m\u001b[0mMapping\u001b[0m\u001b[1;33m)\u001b[0m\u001b[1;33m:\u001b[0m\u001b[1;33m\u001b[0m\u001b[1;33m\u001b[0m\u001b[0m\n\u001b[0;32m    463\u001b[0m         return _list_of_dict_to_arrays(\n",
      "\u001b[1;32m~\\anaconda3\\lib\\site-packages\\pandas\\core\\internals\\construction.py\u001b[0m in \u001b[0;36m_list_to_arrays\u001b[1;34m(data, columns, coerce_float, dtype)\u001b[0m\n\u001b[0;32m    498\u001b[0m         )\n\u001b[0;32m    499\u001b[0m     \u001b[1;32mexcept\u001b[0m \u001b[0mAssertionError\u001b[0m \u001b[1;32mas\u001b[0m \u001b[0me\u001b[0m\u001b[1;33m:\u001b[0m\u001b[1;33m\u001b[0m\u001b[1;33m\u001b[0m\u001b[0m\n\u001b[1;32m--> 500\u001b[1;33m         \u001b[1;32mraise\u001b[0m \u001b[0mValueError\u001b[0m\u001b[1;33m(\u001b[0m\u001b[0me\u001b[0m\u001b[1;33m)\u001b[0m \u001b[1;32mfrom\u001b[0m \u001b[0me\u001b[0m\u001b[1;33m\u001b[0m\u001b[1;33m\u001b[0m\u001b[0m\n\u001b[0m\u001b[0;32m    501\u001b[0m     \u001b[1;32mreturn\u001b[0m \u001b[0mresult\u001b[0m\u001b[1;33m\u001b[0m\u001b[1;33m\u001b[0m\u001b[0m\n\u001b[0;32m    502\u001b[0m \u001b[1;33m\u001b[0m\u001b[0m\n",
      "\u001b[1;31mValueError\u001b[0m: 2 columns passed, passed data had 3 columns"
     ]
    }
   ],
   "source": [
    "cols=[\"Title\", \"Snippet\", \"Category\"]\n",
    "# Dataframe with all three categories\n",
    "dfAll = pd.DataFrame(dataAll, columns=cols)\n",
    "# Dataframes with binary combinations of categories\n",
    "dfMS = pd.DataFrame(dataMusicSport, columns=cols)\n",
    "dfMU = pd.DataFrame(dataMusicUSNews, columns=cols)\n",
    "dfSU = pd.DataFrame(dataSportUSNews, columns=cols)\n",
    "\n",
    "# Shuffle data to scramble data frames\n",
    "dfAll = dfAll.sample(frac=1).reset_index(drop=True)\n",
    "dfMS = dfMS.sample(frac=1).reset_index(drop=True)\n",
    "dfMU = dfMU.sample(frac=1).reset_index(drop=True)\n",
    "dfSU = dfSU.sample(frac=1).reset_index(drop=True)\n",
    "\n",
    "# Print dataframe for all.\n",
    "dfAll"
   ]
  },
  {
   "cell_type": "markdown",
   "metadata": {},
   "source": [
    "## Task 2\n",
    "### Pre Processing Required\n",
    "The dataframes have been shuffled to account for any biases which may effect the training/test data splits further on.\n",
    "\n",
    "The snippets of articles often contain a large amount of irrelevant information, such as words containing little to no information gain such as \"this\", or \"the\". These may be removed through the use of CountVectorizer's default english stop_words.\n",
    "\n",
    "The snippets of text will be converted to numeric representations through the counting and weighting of occurences of words. It is hoped that key words such as \"golf\" or \"football\" will allow for a sport document to be differentiated to a US-News document, which likely contains many mentions of key words such as \"Trump\" or \"Election\" due to the election year last year.\n",
    "\n",
    "This representation method is known as Bag-of-Words representation."
   ]
  },
  {
   "cell_type": "code",
   "execution_count": 6,
   "metadata": {},
   "outputs": [],
   "source": [
    "# Transform data into list of strings of snippets and categories\n",
    "dataAllSnips=[]\n",
    "dataAllCats =[]\n",
    "for tit, snip, cat in dataAll:\n",
    "    dataAllSnips.append(snip)\n",
    "    dataAllCats.append(cat)\n",
    "\n",
    "dataMSSnips=[]\n",
    "dataMSCats =[]\n",
    "for tit, snip, cat in dataMusicSport:\n",
    "    dataMSSnips.append(snip)\n",
    "    dataMSCats.append(cat)\n",
    "    \n",
    "dataMUSnips=[]\n",
    "dataMUCats =[]\n",
    "for tit, snip, cat in dataMusicUSNews:\n",
    "    dataMUSnips.append(snip)\n",
    "    dataMUCats.append(cat)\n",
    "    \n",
    "dataSUSnips=[]\n",
    "dataSUCats =[]\n",
    "for tit, snip, cat in dataSportUSNews:\n",
    "    dataSUSnips.append(snip)\n",
    "    dataSUCats.append(cat)"
   ]
  },
  {
   "cell_type": "markdown",
   "metadata": {},
   "source": [
    "#### The dataset containing Music and US-News will be used in the following sections"
   ]
  },
  {
   "cell_type": "code",
   "execution_count": 7,
   "metadata": {},
   "outputs": [
    {
     "name": "stdout",
     "output_type": "stream",
     "text": [
      "14027\n"
     ]
    }
   ],
   "source": [
    "# Create vector\n",
    "v = CountVectorizer()\n",
    "# Parse terms into term frequencies\n",
    "x=v.fit_transform(dataMSSnips)\n",
    "terms=v.get_feature_names()\n",
    "print(len(terms))"
   ]
  },
  {
   "cell_type": "markdown",
   "metadata": {},
   "source": [
    "Without using stop words this list of strings contains 14027 terms.\n",
    "Using the english stop words:"
   ]
  },
  {
   "cell_type": "code",
   "execution_count": 8,
   "metadata": {},
   "outputs": [
    {
     "name": "stdout",
     "output_type": "stream",
     "text": [
      "13759\n"
     ]
    }
   ],
   "source": [
    "# Remove stop words\n",
    "vStop = CountVectorizer(stop_words=\"english\")\n",
    "x=vStop.fit_transform(dataMSSnips)\n",
    "terms=vStop.get_feature_names()\n",
    "print(len(terms))"
   ]
  },
  {
   "cell_type": "markdown",
   "metadata": {},
   "source": [
    "There are now 13759 terms, only a mild improvement. Removing sparsely used terms, i.e those used fewer than 5 times reduces the number dramatically"
   ]
  },
  {
   "cell_type": "code",
   "execution_count": 9,
   "metadata": {},
   "outputs": [
    {
     "name": "stdout",
     "output_type": "stream",
     "text": [
      "2191\n"
     ]
    }
   ],
   "source": [
    "# Remove stop words and ignore occurences less than 5\n",
    "vStop = CountVectorizer(stop_words=\"english\", min_df=5)\n",
    "x=vStop.fit_transform(dataMSSnips)\n",
    "terms=vStop.get_feature_names()\n",
    "print(len(terms))"
   ]
  },
  {
   "cell_type": "markdown",
   "metadata": {},
   "source": [
    "There are now 2191 terms which is a significant decrease in terms.\n",
    "Generating TF-IDF weighted terms using TfidfVectorizer will give increased weighting to more frequent terms"
   ]
  },
  {
   "cell_type": "code",
   "execution_count": 10,
   "metadata": {},
   "outputs": [
    {
     "name": "stdout",
     "output_type": "stream",
     "text": [
      "2191\n"
     ]
    }
   ],
   "source": [
    "# Weight terms\n",
    "vStop = TfidfVectorizer(stop_words=\"english\", min_df=5)\n",
    "x=vStop.fit_transform(dataMSSnips)\n",
    "terms=vStop.get_feature_names()\n",
    "print(len(terms))"
   ]
  },
  {
   "cell_type": "markdown",
   "metadata": {},
   "source": [
    "It was decided to not utilise N-grams i.e sequence information will not be preserved. This is chosen so that the number of terms created is not too large. The chosen categories are likely to be seperated with a high degree of accuracy due to how different the categories are in practice. If US-News, UK-News, and Politics were chosen, then N-Gram methods may be more beneficial and practical.\n",
    "\n",
    "The vectorizer chosen will remove single length tokens, as well as convert all tokens to lower case."
   ]
  },
  {
   "cell_type": "markdown",
   "metadata": {},
   "source": [
    "### Pipelines\n",
    "Pipelines will allow for elegeant utilisation of cross validation, which will allow for accurate accuracy results with our model. A kNN classifier is used for the classification in this task.\n",
    "\n",
    "The difference in accuracy is initially examed where the number of nearest neighbours is 3. This will be a constant. The optimal min_df number is found for the three pairs -  Music and Sport, Music and US-News, and Music and Sport. Ten fold cross validation is used so that the training/test data split does not effect the outcome drastically. Accuracy is sufficient for evaluation at this point.\n",
    "### Music and Sport"
   ]
  },
  {
   "cell_type": "code",
   "execution_count": 11,
   "metadata": {},
   "outputs": [],
   "source": [
    "# Setup pipeline\n",
    "maxMin_df=10\n",
    "#Accuracy storage for each df number\n",
    "accMS=[]\n",
    "accMU=[]\n",
    "accSU=[]\n",
    "for i in range(1,maxMin_df+1):\n",
    "    # Create pipeline with stop words removed, using TFI-DF transform and kNN=3, vary min_df\n",
    "    p = Pipeline([\n",
    "        ('vec', CountVectorizer(stop_words=\"english\", min_df=i)),\n",
    "        ('tfidf', TfidfTransformer()),\n",
    "        ('clf', KNeighborsClassifier(n_neighbors=3))])\n",
    "    \n",
    "    # Cross validate with 10 folds using the pipeline generated and each binary pair\n",
    "    accMS_ = cross_val_score(p, dataMSSnips, dataMSCats, cv=10, scoring=\"accuracy\")\n",
    "    # Get the mean accuracy to remove influence of outliers\n",
    "    accMS.append(accMS_.mean())\n",
    "    \n",
    "    accMU_ = cross_val_score(p, dataMUSnips, dataMUCats, cv=10, scoring=\"accuracy\")\n",
    "    accMU.append(accMU_.mean())\n",
    "    \n",
    "    accSU_ = cross_val_score(p, dataSUSnips, dataSUCats, cv=10, scoring=\"accuracy\")\n",
    "    accSU.append(accSU_.mean())"
   ]
  },
  {
   "cell_type": "code",
   "execution_count": 12,
   "metadata": {},
   "outputs": [
    {
     "data": {
      "image/png": "[encoded data removed]",
      "text/plain": [
       "<Figure size 864x576 with 1 Axes>"
      ]
     },
     "metadata": {
      "needs_background": "light"
     },
     "output_type": "display_data"
    }
   ],
   "source": [
    "plt.figure(figsize=(12,8));\n",
    "xAx=range(1,maxMin_df+1)\n",
    "# Scatter plot of data\n",
    "plt.scatter(xAx, accMS, marker=\"o\", color=\"none\", edgecolor=\"k\", label=\"Music + Sport\");\n",
    "plt.scatter(xAx, accMU, marker=\"x\", color=\"r\", label=\"Music + US-News\");\n",
    "plt.scatter(xAx, accSU, marker=\"s\", color=\"none\",  edgecolor=\"b\", label=\"Sport + US-News\");\n",
    "plt.legend()\n",
    "plt.xlabel(\"min_df Value\")\n",
    "plt.ylabel(\"Accuracy\")\n",
    "plt.ylim([.5, 1])\n",
    "plt.xlim([0.5, 10.5])\n",
    "plt.xticks([1,2,3,4,5,6,7,8,9,10])\n",
    "plt.grid(axis=\"y\")\n",
    "plt.title(\"Accuracy vs min_df Value\");"
   ]
  },
  {
   "cell_type": "markdown",
   "metadata": {},
   "source": [
    "We can see that the accuracy alone is highest for low values of min_df, however setting a value of 5 results in a very large reduction in size and will be chosen. The accuracy declines fast after reducing terms occuring less than 8 times, meaning that terms occuring less than 8 times contain valuable information.\n",
    "\n",
    "The effect of not using stop words is briefly explored also, using min_df=5 and k=3"
   ]
  },
  {
   "cell_type": "code",
   "execution_count": 13,
   "metadata": {},
   "outputs": [],
   "source": [
    "accsw=[]\n",
    "accnsw=[]\n",
    "accdif=[]\n",
    "# Generate pipeline without removing stop words\n",
    "p1 = Pipeline([\n",
    "    ('vec', CountVectorizer(min_df=5)),\n",
    "    ('tfidf', TfidfTransformer()),\n",
    "    ('clf', KNeighborsClassifier(n_neighbors=3))])\n",
    "# Generate pipeline with removing stop words\n",
    "p2 = Pipeline([\n",
    "    ('vec', CountVectorizer(stop_words=\"english\", min_df=5)),\n",
    "    ('tfidf', TfidfTransformer()),\n",
    "    ('clf', KNeighborsClassifier(n_neighbors=3))])\n",
    "\n",
    "# Accuracies from 10 fold cross validation on Music + Sport without removing stop words\n",
    "accMS_nosw = cross_val_score(p1, dataMSSnips, dataMSCats, cv=10, scoring=\"accuracy\")\n",
    "# Accuracies from 10 fold cross validation on Music + Sport with removing stop words\n",
    "accMS_sw = cross_val_score(p2, dataMSSnips, dataMSCats, cv=10, scoring=\"accuracy\")\n",
    "accsw.append(accMS_nosw.mean())\n",
    "accnsw.append(accMS_nosw.mean())\n",
    "# Calculate differences\n",
    "accdif.append(accMS_nosw.mean()-accMS_nosw.mean())\n",
    "\n",
    "accMU_nosw = cross_val_score(p1, dataMUSnips, dataMUCats, cv=10, scoring=\"accuracy\")\n",
    "accMU_sw = cross_val_score(p2, dataMUSnips, dataMUCats, cv=10, scoring=\"accuracy\")\n",
    "accsw.append(accMU_nosw.mean())\n",
    "accnsw.append(accMU_nosw.mean())\n",
    "accdif.append(accMU_nosw.mean()-accMU_nosw.mean())\n",
    "\n",
    "accSU_nosw = cross_val_score(p1, dataSUSnips, dataSUCats, cv=10, scoring=\"accuracy\")\n",
    "accSU_sw = cross_val_score(p2, dataSUSnips, dataSUCats, cv=10, scoring=\"accuracy\")\n",
    "accsw.append(accSU_nosw.mean())\n",
    "accnsw.append(accSU_nosw.mean())\n",
    "accdif.append(accSU_nosw.mean()-accSU_nosw.mean())"
   ]
  },
  {
   "cell_type": "code",
   "execution_count": 14,
   "metadata": {},
   "outputs": [
    {
     "data": {
      "image/png": "[encoded data removed]",
      "text/plain": [
       "<Figure size 864x576 with 1 Axes>"
      ]
     },
     "metadata": {
      "needs_background": "light"
     },
     "output_type": "display_data"
    }
   ],
   "source": [
    "# Plot bar charts\n",
    "plt.figure(figsize=(12,8))\n",
    "w=0.3\n",
    "xlabels=[\"Music + Sport\", \"Music + US-News\", \"Sport + US-News\"]\n",
    "x=np.arange(len(xlabels))\n",
    "plt.bar(x-w/2, accsw, w, label=\"Remove Stop Words\")\n",
    "plt.bar(x+w/2, accnsw, w, label=\"Keep Stop Words\")\n",
    "plt.xticks(x,xlabels);\n",
    "plt.ylabel(\"Accuracy\")\n",
    "plt.title(\"Accuracy and stop_word Comparison\")\n",
    "plt.legend();"
   ]
  },
  {
   "cell_type": "markdown",
   "metadata": {},
   "source": [
    "There is practically no discernable difference in accuracy and the use of stop words on these data sets. The default English stop words will be removed in any case.\n",
    "\n",
    "The effect of the number of nearest neighbours will now be explored with min_df=5. An estimate for the expected value of k is often near the square root of the total number of elements."
   ]
  },
  {
   "cell_type": "code",
   "execution_count": 15,
   "metadata": {},
   "outputs": [],
   "source": [
    "# Setup pipeline\n",
    "kMax=100\n",
    "accMS=[]\n",
    "accMU=[]\n",
    "accSU=[]\n",
    "# Iterate every 5 neighbours up to limit\n",
    "for i in range(5,kMax+1,5):\n",
    "    # Generate pipeline with min_df=5, TFI_DF transform, kNN=i\n",
    "    p = Pipeline([\n",
    "        ('vec', CountVectorizer(stop_words=\"english\", min_df=5)),\n",
    "        ('tfidf', TfidfTransformer()),\n",
    "        ('clf', KNeighborsClassifier(n_neighbors=i))])\n",
    "    \n",
    "    # 10 fold cross validation on Music + Sport\n",
    "    accMS_ = cross_val_score(p, dataMSSnips, dataMSCats, cv=10, scoring=\"accuracy\")\n",
    "    accMS.append(accMS_.mean())\n",
    "    \n",
    "    accMU_ = cross_val_score(p, dataMUSnips, dataMUCats, cv=10, scoring=\"accuracy\")\n",
    "    accMU.append(accMU_.mean())\n",
    "    \n",
    "    accSU_ = cross_val_score(p, dataSUSnips, dataSUCats, cv=10, scoring=\"accuracy\")\n",
    "    accSU.append(accSU_.mean())"
   ]
  },
  {
   "cell_type": "code",
   "execution_count": 16,
   "metadata": {},
   "outputs": [
    {
     "data": {
      "image/png": "[encoded data removed]",
      "text/plain": [
       "<Figure size 864x576 with 1 Axes>"
      ]
     },
     "metadata": {
      "needs_background": "light"
     },
     "output_type": "display_data"
    }
   ],
   "source": [
    "# Plot accuracies for all binary classifiers with varying k\n",
    "plt.figure(figsize=(12,8));\n",
    "xAx=range(5,kMax+1,5)\n",
    "plt.scatter(xAx, accMS, marker=\"o\", color=\"none\", edgecolor=\"k\", label=\"Music + Sport\");\n",
    "plt.scatter(xAx, accMU, marker=\"x\", color=\"r\", label=\"Music + US-News\");\n",
    "plt.scatter(xAx, accSU, marker=\"s\", color=\"none\",  edgecolor=\"b\", label=\"Sport + US-News\");\n",
    "plt.legend()\n",
    "plt.xlabel(\"Number of Nearest Neighbours Value\")\n",
    "plt.ylabel(\"Accuracy\")\n",
    "plt.ylim([.8, 1])\n",
    "plt.xlim([0.5, kMax+.5])\n",
    "plt.xticks([0,20,40,60,80,100])\n",
    "plt.grid()\n",
    "plt.title(\"Accuracy vs Number of nearest neighbours\");"
   ]
  },
  {
   "cell_type": "code",
   "execution_count": 17,
   "metadata": {},
   "outputs": [
    {
     "name": "stdout",
     "output_type": "stream",
     "text": [
      "The highest accuracy is obtained from the number of nearest neighbours being 85 for Music and Sport, 70 for Music and US-News, and 90 for Sport and US-News.\n",
      "These result inaccuracies of 90.51%, 92.11%, 92.05% respectively\n"
     ]
    }
   ],
   "source": [
    "X=accMS.index(max(accMS))*5\n",
    "Y=accMU.index(max(accMU))*5\n",
    "Z=accSU.index(max(accSU))*5\n",
    "print(f\"The highest accuracy is obtained from the number of nearest neighbours being {X} for Music and Sport, {Y} for Music and US-News, and {Z} for Sport and US-News.\")\n",
    "print(f\"These result inaccuracies of {round(max(accMS)*100,2)}%, {round(max(accMU)*100,2)}%, {round(max(accSU)*100,2)}% respectively\")"
   ]
  },
  {
   "cell_type": "markdown",
   "metadata": {},
   "source": [
    "Viewing the confusion matrices of these specific models will help in determining if the model is producing good outputs, i.e that it is not assigning to a majority class for example and ignoring one class entirely."
   ]
  },
  {
   "cell_type": "code",
   "execution_count": 18,
   "metadata": {},
   "outputs": [
    {
     "name": "stdout",
     "output_type": "stream",
     "text": [
      "Music - Sport Confusion Matrix:\n",
      "[[333  26]\n",
      " [ 28 337]]\n",
      "Music - Sport AUC: 0.9760560155683596\n",
      "Music - US-News Confusion Matrix:\n",
      "[[330  35]\n",
      " [ 32 326]]\n",
      "Music - US-News AUC: 0.9725721282620341\n",
      "Sport - US-News Confusion Matrix:\n",
      "[[346  38]\n",
      " [ 24 319]]\n",
      "Sport - US-News AUC: 0.970310222303207\n"
     ]
    }
   ],
   "source": [
    "# Create KNN classifier with respective max accuracies at time of running.\n",
    "# These values should be close to the optimal values over subsequent runs of this program\n",
    "m_MS=KNeighborsClassifier(n_neighbors=85)\n",
    "m_MU=KNeighborsClassifier(n_neighbors=70)\n",
    "m_SU=KNeighborsClassifier(n_neighbors=90)\n",
    "\n",
    "# Split data into 80 20 training test\n",
    "MS_train_docs, MS_test_docs, MS_train_target, MS_test_target = train_test_split(dataMSSnips, dataMSCats, test_size=0.2)\n",
    "MU_train_docs, MU_test_docs, MU_train_target, MU_test_target = train_test_split(dataMUSnips, dataMUCats, test_size=0.2)\n",
    "SU_train_docs, SU_test_docs, SU_train_target, SU_test_target = train_test_split(dataSUSnips, dataSUCats, test_size=0.2)\n",
    "\n",
    "# Get vector with stop words removed and min_df=5\n",
    "vms= TfidfVectorizer(stop_words=\"english\", min_df=5)\n",
    "# Transform vector to fit training doc\n",
    "XMS= vms.fit_transform(MS_train_docs)\n",
    "# Preprocess test data the same way\n",
    "XMS_test = vms.transform(MS_test_docs)\n",
    "# Train the model with the training data and targets\n",
    "m_MS.fit(XMS, MS_train_target)\n",
    "# Predict test data\n",
    "MS_predictions=m_MS.predict(XMS_test)\n",
    "# Get probability of prediction\n",
    "MS_predictions_prob=m_MS.predict_proba(XMS_test)[:,1]\n",
    "# Get AUC\n",
    "MS_AUC=roc_auc_score(MS_test_target,MS_predictions_prob)\n",
    "# Get confusion matrix\n",
    "cm_MS = confusion_matrix(MS_test_target, MS_predictions, labels=[\"Music\", \"Sport\"])\n",
    "print(\"Music - Sport Confusion Matrix:\")\n",
    "print(cm_MS)\n",
    "print(f\"Music - Sport AUC: {MS_AUC}\")\n",
    "\n",
    "# Get vector with stop words removed and min_df=5\n",
    "vmu= TfidfVectorizer(stop_words=\"english\", min_df=5)\n",
    "# Transform vector to fit training doc\n",
    "XMU= vmu.fit_transform(MU_train_docs)\n",
    "# Preprocess test data the same way\n",
    "XMU_test = vmu.transform(MU_test_docs)\n",
    "# Train the model with the training data and targets\n",
    "m_MU.fit(XMU, MU_train_target)\n",
    "# Predict test data\n",
    "MU_predictions=m_MU.predict(XMU_test)\n",
    "# Get probability of prediction\n",
    "MU_predictions_prob=m_MU.predict_proba(XMU_test)[:,1]\n",
    "# Get AUC\n",
    "MU_AUC=roc_auc_score(MU_test_target, MU_predictions_prob)\n",
    "# Get confusion matrix\n",
    "cm_MU = confusion_matrix(MU_test_target, MU_predictions, labels=[\"Music\", \"US-News\"])\n",
    "print(\"Music - US-News Confusion Matrix:\")\n",
    "print(cm_MU)\n",
    "print(f\"Music - US-News AUC: {MU_AUC}\")\n",
    "\n",
    "# Get vector with stop words removed and min_df=5\n",
    "vsu= TfidfVectorizer(stop_words=\"english\", min_df=5)\n",
    "# Transform vector to fit training doc\n",
    "XSU= vsu.fit_transform(SU_train_docs)\n",
    "# Preprocess test data the same way\n",
    "XSU_test = vsu.transform(SU_test_docs)\n",
    "# Train the model with the training data and targets\n",
    "m_SU.fit(XSU, SU_train_target)\n",
    "# Predict test data\n",
    "SU_predictions=m_SU.predict(XSU_test)\n",
    "# Get probability of prediction\n",
    "MU_predictions_prob=m_SU.predict_proba(XSU_test)[:,1]\n",
    "# Get AUC\n",
    "SU_AUC=roc_auc_score(SU_test_target, MU_predictions_prob)\n",
    "# Get confusion matrix\n",
    "cm_SU = confusion_matrix(SU_test_target, SU_predictions, labels=[\"Sport\", \"US-News\"])\n",
    "print(\"Sport - US-News Confusion Matrix:\")\n",
    "print(cm_SU)\n",
    "print(f\"Sport - US-News AUC: {SU_AUC}\")\n"
   ]
  },
  {
   "cell_type": "markdown",
   "metadata": {},
   "source": [
    "There are roughly as many type 1 errors as type 2 and predictions are not being made to any majority class as there is clearly no majority class present here. There is a low number of false negatives and false positives, with amounts reflecting the accuracy of our models\n",
    "\n",
    "The achieved accuracy levels of 90.51%, 92.11%, and 92.05% show that these models are very good at discerning snippets of text pertaining to a specific category of text. The additional pre-processing and exploration has yielded an accuracy gain of over 10%\n",
    "\n",
    "Finally the AUC for all three binary classifiers is very high, over 0.96 for all. A value of 0.9 or more indicates a very strong classifier.\n",
    "\n",
    "## Task 3\n",
    "The steps undertaken for comparing all three categories is broadly similar.\n",
    "kNN will be explored as well as Stochastic Gradient Descent as our methods of multiclass classification.\n",
    "### kNN\n",
    "The same min_df of 5 will be used, with the default English stop_words being removed from the document.\n",
    "Exploring the accuracy through varying k:"
   ]
  },
  {
   "cell_type": "code",
   "execution_count": 19,
   "metadata": {},
   "outputs": [],
   "source": [
    "# Setup pipeline\n",
    "maxk=100\n",
    "acc=[]\n",
    "for i in range(5,maxk+1,5):\n",
    "    # Pipeline with min_df=5, stop words removed, and kNN classifier with k=i\n",
    "    p = Pipeline([\n",
    "        ('vec', CountVectorizer(stop_words=\"english\", min_df=5)),\n",
    "        ('tfidf', TfidfTransformer()),\n",
    "        ('clf', KNeighborsClassifier(n_neighbors=i))])\n",
    "    # 10 fold cross validation accuracy\n",
    "    acc_ = cross_val_score(p, dataAllSnips, dataAllCats, cv=10, scoring=\"accuracy\")\n",
    "    acc.append(acc_.mean())"
   ]
  },
  {
   "cell_type": "code",
   "execution_count": 20,
   "metadata": {},
   "outputs": [
    {
     "data": {
      "image/png": "[encoded data removed]",
      "text/plain": [
       "<Figure size 864x576 with 1 Axes>"
      ]
     },
     "metadata": {
      "needs_background": "light"
     },
     "output_type": "display_data"
    }
   ],
   "source": [
    "# Plot accuracies of multi class over range of k\n",
    "plt.figure(figsize=(12,8));\n",
    "xAx=range(5,maxk+1,5)\n",
    "plt.plot(xAx, acc,'k', marker=\"x\", markeredgecolor=\"r\",ms=10, label=\"Music + Sport + US-News\");\n",
    "plt.legend()\n",
    "plt.xlabel(\"Number of Nearest Neighbours Value\")\n",
    "plt.ylabel(\"Accuracy\")\n",
    "plt.ylim([min(acc), .9])\n",
    "plt.xlim([0.5, kMax+.5])\n",
    "plt.xticks([0,20,40,60,80,100])\n",
    "plt.grid()\n",
    "plt.title(\"Accuracy vs Number of nearest neighbours\");"
   ]
  },
  {
   "cell_type": "code",
   "execution_count": 21,
   "metadata": {},
   "outputs": [
    {
     "name": "stdout",
     "output_type": "stream",
     "text": [
      "The highest accuracy is obtained from the number of nearest neighbours is 35 for Music, Sport, and US-News\n",
      "This result in accuracies of 86.89%\n"
     ]
    }
   ],
   "source": [
    "X=acc.index(max(acc))*5\n",
    "print(f\"The highest accuracy is obtained from the number of nearest neighbours is {X} for Music, Sport, and US-News\")\n",
    "print(f\"This result in accuracies of {round(max(acc)*100,2)}%\")"
   ]
  },
  {
   "cell_type": "markdown",
   "metadata": {},
   "source": [
    "The highest accuracy is observed where k is around 35. This results in an accuracy of 86.89%, lower than binary classifications as would be expected due to the increased complexity of the problem.\n",
    "\n",
    "### Stochastic Gradient Descent\n",
    "As with kNN, a pipeline will be created with the same parameters, except the SGDClassifier will be used instead for classification."
   ]
  },
  {
   "cell_type": "code",
   "execution_count": 22,
   "metadata": {},
   "outputs": [
    {
     "name": "stdout",
     "output_type": "stream",
     "text": [
      "The accuracy achieved with SGD is 88.0%\n"
     ]
    }
   ],
   "source": [
    "# Stochastic gradient descent pipeline with stop words removed, min_df=5, TFI-DF transform\n",
    "psgd = Pipeline([\n",
    "    ('vec', CountVectorizer(stop_words=\"english\", min_df=5)),\n",
    "    ('tfidf', TfidfTransformer()),\n",
    "    ('clf', SGDClassifier())])\n",
    "acc_sgd = cross_val_score(psgd, dataAllSnips, dataAllCats, cv=10, scoring=\"accuracy\")\n",
    "accsgd=acc_sgd.mean()\n",
    "print(f\"The accuracy achieved with SGD is {round(accsgd,2)*100}%\")"
   ]
  },
  {
   "cell_type": "markdown",
   "metadata": {},
   "source": [
    "The accuracy with SGD appears to be higher by just over 1% over consecutive runs. \n",
    "\n",
    "## Model Decision\n",
    "Comparing the confusion matrices will allow for us to determine if the SGD is indeed better than our kNN model. AUC is not used as confusion matrices are better for multiclass evaluation\n"
   ]
  },
  {
   "cell_type": "code",
   "execution_count": 23,
   "metadata": {},
   "outputs": [
    {
     "name": "stdout",
     "output_type": "stream",
     "text": [
      "SGD Confusion Matrix:\n",
      "[[294  25  18]\n",
      " [ 18 333  13]\n",
      " [ 26  23 337]]\n",
      "kNN Confusion Matrix:\n",
      "[[286  26  25]\n",
      " [ 42 302  20]\n",
      " [ 29  20 337]]\n"
     ]
    }
   ],
   "source": [
    "#SGD classifier\n",
    "m_SGD=SGDClassifier(loss=\"log\")\n",
    "#kNN classifier\n",
    "m_kNN=KNeighborsClassifier(n_neighbors=35)\n",
    "\n",
    "# Split data into 80 20 training test\n",
    "train_docs, test_docs, train_target, test_target = train_test_split(dataAllSnips, dataAllCats, test_size=0.2)\n",
    "\n",
    "# Get vector with stop words removed and min_df=5\n",
    "vall= TfidfVectorizer(stop_words=\"english\", min_df=5)\n",
    "# Transform vector to fit training doc\n",
    "Xall= vall.fit_transform(train_docs)\n",
    "# Preprocess test data the same way\n",
    "Xall_test = vall.transform(test_docs)\n",
    "# Train the model with the training data and targets\n",
    "m_SGD.fit(Xall, train_target)\n",
    "m_kNN.fit(Xall, train_target)\n",
    "# Predict test data\n",
    "SGD_predictions=m_SGD.predict(Xall_test)\n",
    "kNN_predictions=m_kNN.predict(Xall_test)\n",
    "\n",
    "# Get confusion matrix\n",
    "cm_SGD = confusion_matrix(test_target, SGD_predictions, labels=[\"Music\", \"Sport\", \"US-News\"])\n",
    "cm_kNN = confusion_matrix(test_target, kNN_predictions, labels=[\"Music\", \"Sport\", \"US-News\"])\n",
    "print(\"SGD Confusion Matrix:\")\n",
    "print(cm_SGD)\n",
    "print(\"kNN Confusion Matrix:\")\n",
    "print(cm_kNN)\n"
   ]
  },
  {
   "cell_type": "markdown",
   "metadata": {},
   "source": [
    "## Conclusion\n",
    "Both models possess good quality confusion matrices with no majority classes selected with low levels of false positives/negatives. From this, the SGD method of multiclass classification is our preferred method.\n",
    "\n",
    "From the above confusion matrix, the classifier is better at categorizing US-News from Sport and Music as can be seen by the higher TP rate in the lower right hand corner of the confusion matrix relative to the other two TP values. This was expected as this category is more distinct compared to Music and Sport. The abundance of mentions of Trump and Biden in the dataset no doubt made it easier for the classifier.\n",
    "\n",
    "Sport and music are broadly similar, with Music being the most difficult to categorise out of the three categories.\n",
    "\n",
    "The generated model is able to categorize with an accuracy of approximately 88% from small snippets of articles."
   ]
  }
 ],
 "metadata": {
  "kernelspec": {
   "display_name": "Python 3",
   "language": "python",
   "name": "python3"
  },
  "language_info": {
   "codemirror_mode": {
    "name": "ipython",
    "version": 3
   },
   "file_extension": ".py",
   "mimetype": "text/x-python",
   "name": "python",
   "nbconvert_exporter": "python",
   "pygments_lexer": "ipython3",
   "version": "3.8.3"
  }
 },
 "nbformat": 4,
 "nbformat_minor": 4
}
